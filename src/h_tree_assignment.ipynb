{
 "cells": [
  {
   "cell_type": "code",
   "execution_count": null,
   "id": "b7c3a38b",
   "metadata": {},
   "outputs": [],
   "source": [
    "import tkinter as tk\n",
    "import tkinter.font as font\n",
    "\n",
    "WIDTH = 500\n",
    "HEIGHT = 500"
   ]
  },
  {
   "cell_type": "code",
   "execution_count": null,
   "id": "5d1afd46",
   "metadata": {},
   "outputs": [],
   "source": [
    "class Window(tk.Frame):\n",
    "    def __init__(self, parent):\n",
    "        super(Window, self).__init__(parent)\n",
    "        self.order_var = tk.StringVar()\n",
    "        self.titleFont = font.Font(family='Helvetica', size=12, weight='bold')\n",
    "        self.labelFont = font.Font(family='Helvetica', size=10)\n",
    "        self.order_label = tk.Label(self, text='   Enter an order number (integer)   ', font=self.labelFont)\n",
    "        self.order_label.grid(column=1, row=0)\n",
    "        self.order_entry = tk.Entry(self, textvariable=self.order_var)\n",
    "        self.order_entry.grid(column=2, row=0)\n",
    "        self.order_entry.focus()\n",
    "        self.generateB = tk.Button(self,text='   Generate H Tree   ', command=self.generate_htree)\n",
    "        self.generateB.grid(column=3, row=0)\n",
    "        self.canvas = tk.Canvas(parent, width=WIDTH, height=HEIGHT)\n",
    "        self.canvas.pack()\n",
    "\n",
    "    def generate_htree(self):\n",
    "        return\n"
   ]
  },
  {
   "cell_type": "code",
   "execution_count": null,
   "id": "07773884",
   "metadata": {},
   "outputs": [],
   "source": [
    "class HTree(Window):\n",
    "    def __init(self, parent):\n",
    "        super(HTree, self).__init__(parent)\n",
    "\n",
    "    def generate_htree(self):\n",
    "        try:\n",
    "            order = int(self.order_var.get())\n",
    "            self.canvas.delete('all')\n",
    "            # implement method to draw H tree\n",
    "            # self.draw_h_trees(order, ....)\n",
    "        except:\n",
    "            print(\"Please enter the order as a positive integer. Thank you!\")\n",
    "        return\n",
    "\n",
    "\n",
    "    # implement the draw h tree method\n",
    "    # def draw_h_trees(self, order, ....):\n",
    "    #     if (order > 0):\n",
    "    #\n"
   ]
  },
  {
   "cell_type": "code",
   "execution_count": null,
   "id": "2a4df531",
   "metadata": {},
   "outputs": [],
   "source": [
    "if __name__ == '__main__':\n",
    "    root = tk.Tk()\n",
    "    root.title(\"H Tree\")\n",
    "    root.geometry(\"550x550\")\n",
    "    main = HTree(root)\n",
    "    main.pack(fill=\"both\", expand=True)\n",
    "    root.mainloop()"
   ]
  }
 ],
 "metadata": {
  "kernelspec": {
   "display_name": "Python 3 (ipykernel)",
   "language": "python",
   "name": "python3"
  },
  "language_info": {
   "codemirror_mode": {
    "name": "ipython",
    "version": 3
   },
   "file_extension": ".py",
   "mimetype": "text/x-python",
   "name": "python",
   "nbconvert_exporter": "python",
   "pygments_lexer": "ipython3",
   "version": "3.9.0"
  }
 },
 "nbformat": 4,
 "nbformat_minor": 5
}
