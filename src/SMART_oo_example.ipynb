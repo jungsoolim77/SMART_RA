{
 "cells": [
  {
   "cell_type": "code",
   "execution_count": 1,
   "id": "1ae6307e",
   "metadata": {},
   "outputs": [],
   "source": [
    "# #           Person\n",
    "#          /          \\\n",
    "# # Student                 Employee\n",
    "#                        /          \\\n",
    "# #                  Faulty         Staff"
   ]
  },
  {
   "cell_type": "code",
   "execution_count": 2,
   "id": "51ea0721",
   "metadata": {},
   "outputs": [],
   "source": [
    "import enum\n",
    "\n",
    "class Person:\n",
    "    def __init__(self, name='N/A', address='N/A', phone='(000) 000-0000', email='N/A'):\n",
    "        self.name = name\n",
    "        self.address = address\n",
    "        self.phone = phone\n",
    "        self.email = email\n",
    "\n",
    "    def get_name(self):\n",
    "        return self.name\n",
    "\n",
    "    def get_address(self):\n",
    "        return self.address\n",
    "\n",
    "    def get_phone(self):\n",
    "        return self.phone\n",
    "\n",
    "    def get_email(self):\n",
    "        return self.email\n",
    "\n",
    "    def set_address(self, address):\n",
    "        self.address = address\n",
    "\n",
    "    def set_phone(self, phone):\n",
    "        self.phone = phone\n",
    "\n",
    "    def set_email(self, email):\n",
    "        self.email = email\n",
    "    "
   ]
  },
  {
   "cell_type": "code",
   "execution_count": 3,
   "id": "94b85a96",
   "metadata": {},
   "outputs": [],
   "source": [
    "class Grade(enum.Enum):\n",
    "    freshman = 1\n",
    "    sophomore = 2\n",
    "    junior = 3\n",
    "    senior = 4"
   ]
  },
  {
   "cell_type": "code",
   "execution_count": 4,
   "id": "377aaf43",
   "metadata": {},
   "outputs": [],
   "source": [
    "class Student(Person):\n",
    "    def __init__(self, name='N/A', address='N/A', phone='(000) 000-0000', email='N/A', status=Grade.freshman):\n",
    "        super().__init__(name,address,phone,email)\n",
    "        self.status = status\n",
    "\n",
    "    def get_status(self):\n",
    "        return self.status\n",
    "\n",
    "    def set_status(self, status):\n",
    "        self.status = status\n"
   ]
  },
  {
   "cell_type": "code",
   "execution_count": 5,
   "id": "18d7dba6",
   "metadata": {},
   "outputs": [],
   "source": [
    "class Employee(Person):\n",
    "    def __init__(self, name='N/A', address='N/A', phone='(000) 000-0000', email='N/A', office='000', salary=0, date_hired='01/01/2022'):\n",
    "        super().__init__(name, address, phone, email)\n",
    "        self.office = office\n",
    "        self.salary = salary\n",
    "        self.date_hired = date_hired\n",
    "\n",
    "    def get_office(self):\n",
    "        return self.office\n",
    "\n",
    "    def get_salary(self):\n",
    "        return self.salary\n",
    "\n",
    "    def get_date_hired(self):\n",
    "        return self.date_hired\n",
    "\n",
    "    def set_office(self, office):\n",
    "        self.office = office\n",
    "\n",
    "    def set_salary(self, salary):\n",
    "        self.salary = salary\n",
    "\n",
    "    def set_date_hired(self, date_hired):\n",
    "        self.date_hired = date_hired"
   ]
  },
  {
   "cell_type": "code",
   "execution_count": 6,
   "id": "eb2fdcd3",
   "metadata": {},
   "outputs": [],
   "source": [
    "class Facluty(Employee):\n",
    "    def __init__(self, name='N/A', address='N/A', phone='(000) 000-0000', email='N/A', office='000', salary=0, date_hired='01/01/2022', office_hours='', rank='ap'):\n",
    "        super().__init__(name, address, phone, email, office, salary, date_hired)\n",
    "        self.office_hours = office_hours\n",
    "        self.rank=rank\n",
    "\n",
    "    def get_office_hours(self):\n",
    "        return self.office_hours\n",
    "\n",
    "    def get_rank(self):\n",
    "        return self.rank\n",
    "\n",
    "    def set_office_hours(self, office_hours):\n",
    "        self.office_hours = office_hours\n",
    "\n",
    "    def set_rank(self, rank):\n",
    "        self.rank = rank"
   ]
  },
  {
   "cell_type": "code",
   "execution_count": 7,
   "id": "a99ca73c",
   "metadata": {},
   "outputs": [],
   "source": [
    "class Staff(Employee):\n",
    "    def __init__(self, name='N/A', address='N/A', phone='(000) 000-0000', email='N/A', office='000', salary=0, date_hired='01/01/2022', title='new staff'):\n",
    "        super().__init__(name, address, phone, email, office, salary, date_hired)\n",
    "        self.title = title\n",
    "\n",
    "    def get_title(self):\n",
    "        return self.title\n",
    "\n",
    "    def set_title(self, title):\n",
    "        self.title = title"
   ]
  },
  {
   "cell_type": "code",
   "execution_count": 8,
   "id": "472f0eab",
   "metadata": {},
   "outputs": [
    {
     "name": "stdout",
     "output_type": "stream",
     "text": [
      "bob\n",
      "soo\n",
      "alice\n",
      "charles\n",
      "daniel\n"
     ]
    }
   ],
   "source": [
    "if __name__ == '__main__':\n",
    "\n",
    "    p = Person(name='bob')\n",
    "    print(p.get_name())\n",
    "    p = Student(name='soo')\n",
    "    print(p.get_name())\n",
    "    p = Employee(name='alice')\n",
    "    print(p.get_name())\n",
    "    p = Facluty(name='charles')\n",
    "    print(p.get_name())\n",
    "    p = Staff(name='daniel')\n",
    "    print(p.get_name())"
   ]
  },
  {
   "cell_type": "code",
   "execution_count": null,
   "id": "fd2e88a3",
   "metadata": {},
   "outputs": [],
   "source": [
    "# homework 1\n",
    "# 1. Create student class student with name = your name, address = '1234 SMART RA', phone = '(123) 456-7890', email = your email\n",
    "# 2. Create Faculty class faculty with same attributes as student.\n",
    "# 3. Set faculty office to 'Room 1234'\n",
    "# 4. Set faculty date_hired to '06/07/2022'\n",
    "# 5. Set faculty salary to '10000'\n",
    "# 6. Give 10% raise to faculty\n",
    "# 7. Create Staff class staff with same attributes as student\n",
    "# 8. Set staff office to 'Room 5678'\n",
    "# 9. Set faculty date_hired to '06/07/2022'\n",
    "# 10. Set faculty salary to '10000'\n",
    "# 11. Give 20% raise to staff\n",
    "# 12. Create a GraduateStudent class as a sub-class of Student class containing graduate_student_id\n"
   ]
  }
 ],
 "metadata": {
  "kernelspec": {
   "display_name": "Python 3 (ipykernel)",
   "language": "python",
   "name": "python3"
  },
  "language_info": {
   "codemirror_mode": {
    "name": "ipython",
    "version": 3
   },
   "file_extension": ".py",
   "mimetype": "text/x-python",
   "name": "python",
   "nbconvert_exporter": "python",
   "pygments_lexer": "ipython3",
   "version": "3.9.0"
  }
 },
 "nbformat": 4,
 "nbformat_minor": 5
}
